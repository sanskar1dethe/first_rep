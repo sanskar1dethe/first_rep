{
 "cells": [
  {
   "cell_type": "markdown",
   "id": "1cc6f3d7",
   "metadata": {},
   "source": [
    "# My Jupyter Notebook on IBM Watson Studio\n"
   ]
  },
  {
   "cell_type": "markdown",
   "id": "70cf8986",
   "metadata": {},
   "source": [
    "**sanskar dethe**\n",
    "\n",
    "student"
   ]
  },
  {
   "cell_type": "markdown",
   "id": "f82a67eb",
   "metadata": {},
   "source": [
    "*I am interested in data science because i love analysis and statsics*  "
   ]
  },
  {
   "cell_type": "markdown",
   "id": "cfcebcf0",
   "metadata": {},
   "source": [
    "### the code in cell 5 prints a sentence \"hello world\""
   ]
  },
  {
   "cell_type": "code",
   "execution_count": 2,
   "id": "47ab939a",
   "metadata": {},
   "outputs": [
    {
     "name": "stdout",
     "output_type": "stream",
     "text": [
      "hello world\n"
     ]
    }
   ],
   "source": [
    "print(\"hello world\")"
   ]
  },
  {
   "cell_type": "markdown",
   "id": "8bfad594",
   "metadata": {},
   "source": [
    "<ul>\n",
    "  <li>one</li>\n",
    "  <li>two</li>\n",
    "  <li>three</li>\n",
    "</ul>"
   ]
  },
  {
   "cell_type": "markdown",
   "id": "fbae6815",
   "metadata": {},
   "source": [
    " <ol>\n",
    "      <li>one</li>\n",
    "      <li>two</li>\n",
    "      <li>three</li>\n",
    "    </ol>"
   ]
  },
  {
   "cell_type": "markdown",
   "id": "5cb08004",
   "metadata": {},
   "source": [
    "<table>\n",
    "  <tr>\n",
    "    <td>name</td>\n",
    "    <td>roll no</td>\n",
    "    <td>branch</td>\n",
    "  </tr>\n",
    "</table>"
   ]
  },
  {
   "cell_type": "code",
   "execution_count": null,
   "id": "14fa6547",
   "metadata": {},
   "outputs": [],
   "source": []
  }
 ],
 "metadata": {
  "kernelspec": {
   "display_name": "Python 3 (ipykernel)",
   "language": "python",
   "name": "python3"
  },
  "language_info": {
   "codemirror_mode": {
    "name": "ipython",
    "version": 3
   },
   "file_extension": ".py",
   "mimetype": "text/x-python",
   "name": "python",
   "nbconvert_exporter": "python",
   "pygments_lexer": "ipython3",
   "version": "3.9.6"
  }
 },
 "nbformat": 4,
 "nbformat_minor": 5
}
